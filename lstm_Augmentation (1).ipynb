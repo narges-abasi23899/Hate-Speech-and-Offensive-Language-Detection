{
  "cells": [
    {
      "cell_type": "code",
      "source": [
        "from sklearn.metrics import f1_score\n",
        "from sklearn.metrics import accuracy_score\n",
        "from sklearn.metrics import recall_score\n",
        "from sklearn.metrics import precision_score"
      ],
      "metadata": {
        "id": "6bl2_PJssnE7"
      },
      "execution_count": 1,
      "outputs": []
    },
    {
      "cell_type": "code",
      "execution_count": 2,
      "metadata": {
        "colab": {
          "base_uri": "https://localhost:8080/"
        },
        "id": "BS7bgOzU1tTn",
        "outputId": "9af554b9-d5c0-4bc5-92dc-03e5a9a37e65"
      },
      "outputs": [
        {
          "output_type": "stream",
          "name": "stdout",
          "text": [
            "Collecting imblearn\n",
            "  Downloading imblearn-0.0-py2.py3-none-any.whl.metadata (355 bytes)\n",
            "Requirement already satisfied: imbalanced-learn in /usr/local/lib/python3.11/dist-packages (from imblearn) (0.13.0)\n",
            "Requirement already satisfied: numpy<3,>=1.24.3 in /usr/local/lib/python3.11/dist-packages (from imbalanced-learn->imblearn) (1.26.4)\n",
            "Requirement already satisfied: scipy<2,>=1.10.1 in /usr/local/lib/python3.11/dist-packages (from imbalanced-learn->imblearn) (1.13.1)\n",
            "Requirement already satisfied: scikit-learn<2,>=1.3.2 in /usr/local/lib/python3.11/dist-packages (from imbalanced-learn->imblearn) (1.6.0)\n",
            "Requirement already satisfied: sklearn-compat<1,>=0.1 in /usr/local/lib/python3.11/dist-packages (from imbalanced-learn->imblearn) (0.1.3)\n",
            "Requirement already satisfied: joblib<2,>=1.1.1 in /usr/local/lib/python3.11/dist-packages (from imbalanced-learn->imblearn) (1.4.2)\n",
            "Requirement already satisfied: threadpoolctl<4,>=2.0.0 in /usr/local/lib/python3.11/dist-packages (from imbalanced-learn->imblearn) (3.5.0)\n",
            "Downloading imblearn-0.0-py2.py3-none-any.whl (1.9 kB)\n",
            "Installing collected packages: imblearn\n",
            "Successfully installed imblearn-0.0\n"
          ]
        }
      ],
      "source": [
        "import numpy as np\n",
        "import pandas as pd\n",
        "import re\n",
        "import nltk\n",
        "from nltk.stem import PorterStemmer # for stemming\n",
        "from nltk.stem import WordNetLemmatizer # for lemmatization\n",
        "from nltk.corpus import stopwords\n",
        "from sklearn.feature_extraction.text import CountVectorizer\n",
        "from sklearn.feature_extraction.text import TfidfVectorizer\n",
        "from sklearn.model_selection import train_test_split\n",
        "from sklearn.preprocessing import LabelEncoder\n",
        "from sklearn.feature_extraction.text import CountVectorizer\n",
        "from sklearn.feature_extraction.text import TfidfVectorizer\n",
        "from sklearn.model_selection import train_test_split\n",
        "\n",
        "from sklearn.metrics import accuracy_score\n",
        "from sklearn.metrics import confusion_matrix\n",
        "\n",
        "from sklearn.svm import SVC\n",
        "from sklearn.metrics import accuracy_score,confusion_matrix\n",
        "from sklearn.model_selection import train_test_split , cross_val_score,KFold\n",
        "from collections import Counter\n",
        "\n",
        "\n",
        "from matplotlib import pyplot as plt\n",
        "from sklearn.metrics import confusion_matrix, ConfusionMatrixDisplay\n",
        "from sklearn import metrics\n",
        "import warnings\n",
        "!pip install imblearn\n",
        "import imblearn\n",
        "warnings.filterwarnings(\"ignore\")"
      ]
    },
    {
      "cell_type": "code",
      "execution_count": 3,
      "metadata": {
        "id": "9kTfqelA6ID6"
      },
      "outputs": [],
      "source": [
        "from keras.datasets import imdb\n",
        "import pandas as pd\n",
        "import numpy as np\n",
        "from keras.layers import LSTM, Activation, Dropout, Dense, Input\n",
        "from keras.layers import Embedding\n",
        "from keras.models import Model\n",
        "import string\n",
        "import re\n",
        "from tensorflow.keras.preprocessing.text import Tokenizer\n",
        "from sklearn.preprocessing import LabelBinarizer\n",
        "from keras.preprocessing.sequence import pad_sequences\n",
        "import keras\n",
        "from sklearn.model_selection import train_test_split\n",
        "# This Python 3 environment comes with many helpful analytics libraries installed\n",
        "# It is defined by the kaggle/python docker image: https://github.com/kaggle/docker-python\n",
        "# For example, here's several helpful packages to load in\n",
        "\n",
        "import numpy as np # linear algebra\n",
        "import pandas as pd # data processing, CSV file I/O (e.g. pd.read_csv)\n",
        "\n",
        "# Input data files are available in the \"../input/\" directory.\n",
        "# For example, running this (by clicking run or pressing Shift+Enter) will list the files in the input directory\n",
        "\n",
        "#import os\n",
        "#print(os.listdir(\"../input\"))\n",
        "\n",
        "# Any results you write to the current directory are saved as output.\n",
        "from keras.models import Sequential\n",
        "#from keras.preprocessing.text import Tokenizer\n",
        "from keras.preprocessing.sequence import pad_sequences\n",
        "from tqdm import tqdm\n",
        "import matplotlib.pyplot as plt\n",
        "import seaborn as sns\n",
        "from tensorflow.keras.layers import Bidirectional\n",
        "\n",
        "#%matplotlib inline\n"
      ]
    },
    {
      "cell_type": "code",
      "execution_count": null,
      "metadata": {
        "id": "akfTWY4kSg_K"
      },
      "outputs": [],
      "source": [
        "#from google.colab import drive\n",
        "#drive.mount('/content/drive')"
      ]
    },
    {
      "cell_type": "code",
      "execution_count": 9,
      "metadata": {
        "id": "1qXQe8yf37oQ",
        "colab": {
          "base_uri": "https://localhost:8080/"
        },
        "outputId": "9b60b48e-6014-4dba-d5a2-4d2413e51868"
      },
      "outputs": [
        {
          "output_type": "stream",
          "name": "stdout",
          "text": [
            "There are 8577 rows and 2 columns\n"
          ]
        }
      ],
      "source": [
        "#%%---------Data Read & Transformation---------\n",
        "\n",
        "#Data Reading for Davidson Dataset\n",
        "nRowsRead = None # specify 'None' to read complete file\n",
        "#df = pd.read_csv('/content/drive/MyDrive/temp_files/hate and offensive/train-augmentation.csv', delimiter=',', nrows = nRowsRead,encoding = \"ISO-8859-1\")\n",
        "df = pd.read_csv('Train-Augmentation.csv', delimiter=',', nrows = nRowsRead,encoding = \"ISO-8859-1\")\n",
        "nRow, nCol = df.shape\n",
        "print('There are {} rows and {} columns'.format(nRow, nCol))\n"
      ]
    },
    {
      "cell_type": "code",
      "execution_count": 10,
      "metadata": {
        "id": "mJE9v4z7Bi8c",
        "colab": {
          "base_uri": "https://localhost:8080/",
          "height": 187
        },
        "outputId": "0d0acbcc-b5e4-47cc-95d7-b45c068bdc81"
      },
      "outputs": [
        {
          "output_type": "execute_result",
          "data": {
            "text/plain": [
              "<bound method Series.unique of 0       1\n",
              "1       1\n",
              "2       1\n",
              "3       1\n",
              "4       1\n",
              "       ..\n",
              "8572    0\n",
              "8573    0\n",
              "8574    0\n",
              "8575    0\n",
              "8576    0\n",
              "Name: label, Length: 8577, dtype: int64>"
            ],
            "text/html": [
              "<div style=\"max-width:800px; border: 1px solid var(--colab-border-color);\"><style>\n",
              "      pre.function-repr-contents {\n",
              "        overflow-x: auto;\n",
              "        padding: 8px 12px;\n",
              "        max-height: 500px;\n",
              "      }\n",
              "\n",
              "      pre.function-repr-contents.function-repr-contents-collapsed {\n",
              "        cursor: pointer;\n",
              "        max-height: 100px;\n",
              "      }\n",
              "    </style>\n",
              "    <pre style=\"white-space: initial; background:\n",
              "         var(--colab-secondary-surface-color); padding: 8px 12px;\n",
              "         border-bottom: 1px solid var(--colab-border-color);\"><b>pandas.core.series.Series.unique</b><br/>def unique() -&gt; ArrayLike</pre><pre class=\"function-repr-contents function-repr-contents-collapsed\" style=\"\"><a class=\"filepath\" style=\"display:none\" href=\"#\">/usr/local/lib/python3.11/dist-packages/pandas/core/series.py</a>Return unique values of Series object.\n",
              "\n",
              "Uniques are returned in order of appearance. Hash table-based unique,\n",
              "therefore does NOT sort.\n",
              "\n",
              "Returns\n",
              "-------\n",
              "ndarray or ExtensionArray\n",
              "    The unique values returned as a NumPy array. See Notes.\n",
              "\n",
              "See Also\n",
              "--------\n",
              "Series.drop_duplicates : Return Series with duplicate values removed.\n",
              "unique : Top-level unique method for any 1-d array-like object.\n",
              "Index.unique : Return Index with unique values from an Index object.\n",
              "\n",
              "Notes\n",
              "-----\n",
              "Returns the unique values as a NumPy array. In case of an\n",
              "extension-array backed Series, a new\n",
              ":class:`~api.extensions.ExtensionArray` of that type with just\n",
              "the unique values is returned. This includes\n",
              "\n",
              "    * Categorical\n",
              "    * Period\n",
              "    * Datetime with Timezone\n",
              "    * Datetime without Timezone\n",
              "    * Timedelta\n",
              "    * Interval\n",
              "    * Sparse\n",
              "    * IntegerNA\n",
              "\n",
              "See Examples section.\n",
              "\n",
              "Examples\n",
              "--------\n",
              "&gt;&gt;&gt; pd.Series([2, 1, 3, 3], name=&#x27;A&#x27;).unique()\n",
              "array([2, 1, 3])\n",
              "\n",
              "&gt;&gt;&gt; pd.Series([pd.Timestamp(&#x27;2016-01-01&#x27;) for _ in range(3)]).unique()\n",
              "&lt;DatetimeArray&gt;\n",
              "[&#x27;2016-01-01 00:00:00&#x27;]\n",
              "Length: 1, dtype: datetime64[ns]\n",
              "\n",
              "&gt;&gt;&gt; pd.Series([pd.Timestamp(&#x27;2016-01-01&#x27;, tz=&#x27;US/Eastern&#x27;)\n",
              "...            for _ in range(3)]).unique()\n",
              "&lt;DatetimeArray&gt;\n",
              "[&#x27;2016-01-01 00:00:00-05:00&#x27;]\n",
              "Length: 1, dtype: datetime64[ns, US/Eastern]\n",
              "\n",
              "An Categorical will return categories in the order of\n",
              "appearance and with the same dtype.\n",
              "\n",
              "&gt;&gt;&gt; pd.Series(pd.Categorical(list(&#x27;baabc&#x27;))).unique()\n",
              "[&#x27;b&#x27;, &#x27;a&#x27;, &#x27;c&#x27;]\n",
              "Categories (3, object): [&#x27;a&#x27;, &#x27;b&#x27;, &#x27;c&#x27;]\n",
              "&gt;&gt;&gt; pd.Series(pd.Categorical(list(&#x27;baabc&#x27;), categories=list(&#x27;abc&#x27;),\n",
              "...                          ordered=True)).unique()\n",
              "[&#x27;b&#x27;, &#x27;a&#x27;, &#x27;c&#x27;]\n",
              "Categories (3, object): [&#x27;a&#x27; &lt; &#x27;b&#x27; &lt; &#x27;c&#x27;]</pre>\n",
              "      <script>\n",
              "      if (google.colab.kernel.accessAllowed && google.colab.files && google.colab.files.view) {\n",
              "        for (const element of document.querySelectorAll('.filepath')) {\n",
              "          element.style.display = 'block'\n",
              "          element.onclick = (event) => {\n",
              "            event.preventDefault();\n",
              "            event.stopPropagation();\n",
              "            google.colab.files.view(element.textContent, 2344);\n",
              "          };\n",
              "        }\n",
              "      }\n",
              "      for (const element of document.querySelectorAll('.function-repr-contents')) {\n",
              "        element.onclick = (event) => {\n",
              "          event.preventDefault();\n",
              "          event.stopPropagation();\n",
              "          element.classList.toggle('function-repr-contents-collapsed');\n",
              "        };\n",
              "      }\n",
              "      </script>\n",
              "      </div>"
            ]
          },
          "metadata": {},
          "execution_count": 10
        }
      ],
      "source": [
        "df['label'].unique"
      ]
    },
    {
      "cell_type": "code",
      "execution_count": 11,
      "metadata": {
        "id": "q-msctDISW7H"
      },
      "outputs": [],
      "source": [
        "x = df['tweet']\n",
        "y = df['label']"
      ]
    },
    {
      "cell_type": "code",
      "execution_count": 12,
      "metadata": {
        "id": "a4Sdxm7dSfx7"
      },
      "outputs": [],
      "source": [
        "token = Tokenizer()"
      ]
    },
    {
      "cell_type": "code",
      "execution_count": 13,
      "metadata": {
        "id": "gEjKODU5Sh4F"
      },
      "outputs": [],
      "source": [
        "token.fit_on_texts(x)\n",
        "seq = token.texts_to_sequences(x)"
      ]
    },
    {
      "cell_type": "code",
      "execution_count": 14,
      "metadata": {
        "id": "znxfAcnsSk5J"
      },
      "outputs": [],
      "source": [
        "pad_seq = pad_sequences(seq,maxlen=300)\n",
        "vocab_size = len(token.word_index)+1\n",
        "x = df['tweet']\n",
        "y = df['label']"
      ]
    },
    {
      "cell_type": "code",
      "execution_count": 15,
      "metadata": {
        "id": "IcsRHrhG8ZNm",
        "colab": {
          "base_uri": "https://localhost:8080/"
        },
        "outputId": "74adf055-52e4-4571-c4c8-2bab672bf872"
      },
      "outputs": [
        {
          "output_type": "stream",
          "name": "stdout",
          "text": [
            "--2025-01-22 08:19:58--  http://nlp.stanford.edu/data/glove.6B.zip\n",
            "Resolving nlp.stanford.edu (nlp.stanford.edu)... 171.64.67.140\n",
            "Connecting to nlp.stanford.edu (nlp.stanford.edu)|171.64.67.140|:80... connected.\n",
            "HTTP request sent, awaiting response... 302 Found\n",
            "Location: https://nlp.stanford.edu/data/glove.6B.zip [following]\n",
            "--2025-01-22 08:19:58--  https://nlp.stanford.edu/data/glove.6B.zip\n",
            "Connecting to nlp.stanford.edu (nlp.stanford.edu)|171.64.67.140|:443... connected.\n",
            "HTTP request sent, awaiting response... 301 Moved Permanently\n",
            "Location: https://downloads.cs.stanford.edu/nlp/data/glove.6B.zip [following]\n",
            "--2025-01-22 08:19:58--  https://downloads.cs.stanford.edu/nlp/data/glove.6B.zip\n",
            "Resolving downloads.cs.stanford.edu (downloads.cs.stanford.edu)... 171.64.64.22\n",
            "Connecting to downloads.cs.stanford.edu (downloads.cs.stanford.edu)|171.64.64.22|:443... connected.\n",
            "HTTP request sent, awaiting response... 200 OK\n",
            "Length: 862182613 (822M) [application/zip]\n",
            "Saving to: ‘glove.6B.zip’\n",
            "\n",
            "glove.6B.zip        100%[===================>] 822.24M  5.01MB/s    in 2m 39s  \n",
            "\n",
            "2025-01-22 08:22:37 (5.18 MB/s) - ‘glove.6B.zip’ saved [862182613/862182613]\n",
            "\n",
            "Archive:  glove.6B.zip\n",
            "  inflating: glove.6B.50d.txt        \n",
            "  inflating: glove.6B.100d.txt       \n",
            "  inflating: glove.6B.200d.txt       \n",
            "  inflating: glove.6B.300d.txt       \n"
          ]
        }
      ],
      "source": [
        "!wget http://nlp.stanford.edu/data/glove.6B.zip\n",
        "!unzip glove*.zip"
      ]
    },
    {
      "cell_type": "code",
      "execution_count": 16,
      "metadata": {
        "id": "cTnd1CC835x9"
      },
      "outputs": [],
      "source": [
        "from keras.initializers import Constant\n",
        "from tensorflow.keras.preprocessing.text import one_hot,Tokenizer\n",
        "\n",
        "#from keras.preprocessing.sequence import pad_sequences\n",
        "#from keras_preprocessing.sequence import pad_sequences\n",
        "from keras.utils import pad_sequences\n",
        "embedding_vector = {}\n",
        "f=open(\"glove.6B.100d.txt\",encoding=\"utf-8\")\n",
        "\n"
      ]
    },
    {
      "cell_type": "code",
      "execution_count": 17,
      "metadata": {
        "id": "3rbPuEj5m24f",
        "colab": {
          "base_uri": "https://localhost:8080/"
        },
        "outputId": "63be00cb-3196-4791-fe17-30d8662a3a62"
      },
      "outputs": [
        {
          "output_type": "stream",
          "name": "stderr",
          "text": [
            "400000it [00:16, 24163.95it/s]\n"
          ]
        }
      ],
      "source": [
        "for line in tqdm(f):\n",
        "    value = line.split(' ')\n",
        "    word = value[0]\n",
        "    coef = np.array(value[1:],dtype = 'float32')\n",
        "    embedding_vector[word] = coef"
      ]
    },
    {
      "cell_type": "code",
      "execution_count": 18,
      "metadata": {
        "id": "NBFltuo2StR2",
        "colab": {
          "base_uri": "https://localhost:8080/"
        },
        "outputId": "94a79c4e-ff7b-4079-c1fa-ee5fa8789701"
      },
      "outputs": [
        {
          "output_type": "stream",
          "name": "stderr",
          "text": [
            "100%|██████████| 19110/19110 [00:00<00:00, 348516.20it/s]\n"
          ]
        }
      ],
      "source": [
        "embedding_matrix = np.zeros((vocab_size,100))\n",
        "for word,i in tqdm(token.word_index.items()):\n",
        "    embedding_value = embedding_vector.get(word)\n",
        "    if embedding_value is not None:\n",
        "        embedding_matrix[i] = embedding_value"
      ]
    },
    {
      "cell_type": "code",
      "execution_count": 19,
      "metadata": {
        "id": "gvwxflPs0nD5",
        "colab": {
          "base_uri": "https://localhost:8080/",
          "height": 487
        },
        "outputId": "bfff4173-5326-4cad-a220-c572bfe3f1cc"
      },
      "outputs": [
        {
          "output_type": "stream",
          "name": "stdout",
          "text": [
            "Class=1, n=2859 (33.333%)\n",
            "Class=2, n=2859 (33.333%)\n",
            "Class=0, n=2859 (33.333%)\n"
          ]
        },
        {
          "output_type": "display_data",
          "data": {
            "text/plain": [
              "<Figure size 640x480 with 1 Axes>"
            ],
            "image/png": "[encoded data removed]"
          },
          "metadata": {}
        }
      ],
      "source": [
        "y = df['label']\n",
        "counter = Counter(y)\n",
        "for k,v in counter.items():\n",
        " per = v / len(y) * 100\n",
        " print('Class=%d, n=%d (%.3f%%)' % (k, v, per))\n",
        "# plot the distribution\n",
        "plt.bar(counter.keys(), counter.values())\n",
        "plt.show()"
      ]
    },
    {
      "cell_type": "code",
      "source": [
        "from keras.utils import to_categorical\n",
        "\n",
        "num_classes = 3\n",
        "\n",
        "y_one_hot = to_categorical(y, num_classes=num_classes)\n"
      ],
      "metadata": {
        "id": "NEABvHCUyaaw"
      },
      "execution_count": 20,
      "outputs": []
    },
    {
      "cell_type": "code",
      "execution_count": null,
      "metadata": {
        "id": "oWSRRhvv7QxX"
      },
      "outputs": [],
      "source": [
        "modelLSTMGL = Sequential()\n",
        "modelLSTMGL.add(Embedding(vocab_size,100,weights = [embedding_matrix],input_length=300,trainable = False))\n"
      ]
    },
    {
      "cell_type": "code",
      "execution_count": 21,
      "metadata": {
        "id": "onTtw9Ii0sR-"
      },
      "outputs": [],
      "source": [
        "# Reading validation data from separate CSV file\n",
        "df_val = pd.read_csv('Validation.csv', delimiter=',', nrows = nRowsRead, encoding=\"ISO-8859-1\")\n",
        "x_val = df_val['tweet']\n",
        "y_val = df_val['label']\n",
        "seq_val = token.texts_to_sequences(x_val)\n",
        "pad_seq_val = pad_sequences(seq_val, maxlen=300)"
      ]
    },
    {
      "cell_type": "code",
      "source": [
        "# Convert y_val to one-hot encoding\n",
        "y_val_one_hot = to_categorical(y_val, num_classes=num_classes)"
      ],
      "metadata": {
        "id": "E1boVdPoEvm3"
      },
      "execution_count": 22,
      "outputs": []
    },
    {
      "cell_type": "code",
      "source": [
        "# Train and validation split\n",
        "X_train = pad_seq\n",
        "X_val = pad_seq_val\n",
        "y_train = y_one_hot\n",
        "y_val = y_val_one_hot"
      ],
      "metadata": {
        "id": "AGx6via7EyOI"
      },
      "execution_count": 23,
      "outputs": []
    },
    {
      "cell_type": "code",
      "execution_count": 24,
      "metadata": {
        "id": "y9rZsEad2k_k"
      },
      "outputs": [],
      "source": [
        "from keras.models import Sequential\n",
        "from keras.layers import LSTM, Activation, Dropout, Dense, Input\n",
        "from keras.layers import Embedding,Bidirectional\n",
        "from keras.models import Model\n"
      ]
    },
    {
      "cell_type": "code",
      "source": [
        "# Model construction\n",
        "from tensorflow.keras.models import Sequential\n",
        "from tensorflow.keras.layers import Embedding, Bidirectional, LSTM, Dense\n",
        "\n",
        "modelLSTMGL = Sequential()\n",
        "modelLSTMGL.add(Embedding(vocab_size, 100, weights=[embedding_matrix], input_length=300, trainable=False))\n",
        "modelLSTMGL.add(Bidirectional(LSTM(25)))\n",
        "modelLSTMGL.add(Dense(16, activation='relu'))\n",
        "modelLSTMGL.add(Dense(num_classes, activation='softmax'))  # Softmax for multi-class classification\n",
        "modelLSTMGL.compile(optimizer='adam', loss='categorical_crossentropy', metrics=['accuracy'])\n",
        "# Train the model with the validation data from the separate CSV\n",
        "history = modelLSTMGL.fit(X_train, y_train, epochs=10, batch_size=32, validation_data=(X_val, y_val))"
      ],
      "metadata": {
        "id": "4kHPvcJrnuxk",
        "colab": {
          "base_uri": "https://localhost:8080/"
        },
        "outputId": "b1362a27-3d4c-47af-b070-8175e7a95bca"
      },
      "execution_count": 25,
      "outputs": [
        {
          "output_type": "stream",
          "name": "stdout",
          "text": [
            "Epoch 1/10\n",
            "\u001b[1m269/269\u001b[0m \u001b[32m━━━━━━━━━━━━━━━━━━━━\u001b[0m\u001b[37m\u001b[0m \u001b[1m74s\u001b[0m 259ms/step - accuracy: 0.5920 - loss: 0.8926 - val_accuracy: 0.8352 - val_loss: 0.5131\n",
            "Epoch 2/10\n",
            "\u001b[1m269/269\u001b[0m \u001b[32m━━━━━━━━━━━━━━━━━━━━\u001b[0m\u001b[37m\u001b[0m \u001b[1m69s\u001b[0m 256ms/step - accuracy: 0.8178 - loss: 0.4747 - val_accuracy: 0.7808 - val_loss: 0.6357\n",
            "Epoch 3/10\n",
            "\u001b[1m269/269\u001b[0m \u001b[32m━━━━━━━━━━━━━━━━━━━━\u001b[0m\u001b[37m\u001b[0m \u001b[1m79s\u001b[0m 246ms/step - accuracy: 0.8474 - loss: 0.4092 - val_accuracy: 0.7898 - val_loss: 0.5924\n",
            "Epoch 4/10\n",
            "\u001b[1m269/269\u001b[0m \u001b[32m━━━━━━━━━━━━━━━━━━━━\u001b[0m\u001b[37m\u001b[0m \u001b[1m77s\u001b[0m 288ms/step - accuracy: 0.8516 - loss: 0.3837 - val_accuracy: 0.8191 - val_loss: 0.5078\n",
            "Epoch 5/10\n",
            "\u001b[1m269/269\u001b[0m \u001b[32m━━━━━━━━━━━━━━━━━━━━\u001b[0m\u001b[37m\u001b[0m \u001b[1m69s\u001b[0m 257ms/step - accuracy: 0.8721 - loss: 0.3414 - val_accuracy: 0.8416 - val_loss: 0.4695\n",
            "Epoch 6/10\n",
            "\u001b[1m269/269\u001b[0m \u001b[32m━━━━━━━━━━━━━━━━━━━━\u001b[0m\u001b[37m\u001b[0m \u001b[1m80s\u001b[0m 248ms/step - accuracy: 0.8817 - loss: 0.3259 - val_accuracy: 0.8362 - val_loss: 0.4807\n",
            "Epoch 7/10\n",
            "\u001b[1m269/269\u001b[0m \u001b[32m━━━━━━━━━━━━━━━━━━━━\u001b[0m\u001b[37m\u001b[0m \u001b[1m90s\u001b[0m 278ms/step - accuracy: 0.8848 - loss: 0.3126 - val_accuracy: 0.8682 - val_loss: 0.3549\n",
            "Epoch 8/10\n",
            "\u001b[1m269/269\u001b[0m \u001b[32m━━━━━━━━━━━━━━━━━━━━\u001b[0m\u001b[37m\u001b[0m \u001b[1m74s\u001b[0m 275ms/step - accuracy: 0.8794 - loss: 0.3332 - val_accuracy: 0.8605 - val_loss: 0.4029\n",
            "Epoch 9/10\n",
            "\u001b[1m269/269\u001b[0m \u001b[32m━━━━━━━━━━━━━━━━━━━━\u001b[0m\u001b[37m\u001b[0m \u001b[1m77s\u001b[0m 258ms/step - accuracy: 0.8985 - loss: 0.2753 - val_accuracy: 0.8521 - val_loss: 0.4230\n",
            "Epoch 10/10\n",
            "\u001b[1m269/269\u001b[0m \u001b[32m━━━━━━━━━━━━━━━━━━━━\u001b[0m\u001b[37m\u001b[0m \u001b[1m79s\u001b[0m 247ms/step - accuracy: 0.9079 - loss: 0.2586 - val_accuracy: 0.8594 - val_loss: 0.4240\n"
          ]
        }
      ]
    },
    {
      "cell_type": "code",
      "execution_count": 26,
      "metadata": {
        "id": "uy1b6L0S8kcP"
      },
      "outputs": [],
      "source": [
        "values = history.history"
      ]
    },
    {
      "cell_type": "code",
      "execution_count": 27,
      "metadata": {
        "id": "_jWtH7lg8nnm",
        "colab": {
          "base_uri": "https://localhost:8080/",
          "height": 484
        },
        "outputId": "04e7cdb2-c6f2-4a95-e687-3774aa636123"
      },
      "outputs": [
        {
          "output_type": "display_data",
          "data": {
            "text/plain": [
              "<Figure size 1200x600 with 2 Axes>"
            ],
            "image/png": "[encoded data removed]"
          },
          "metadata": {}
        }
      ],
      "source": [
        "epoch_count = 10\n",
        "\n",
        "# اطمینان حاصل کنید که تعداد عناصر در val_loss و epochs یکسان باشند\n",
        "val_loss = values['val_loss'][:epoch_count]\n",
        "training_loss = values['loss']\n",
        "training_acc = values['accuracy']\n",
        "validation_acc = values['val_accuracy']\n",
        "epochs = range(1, epoch_count + 1)\n",
        "\n",
        "\n",
        "plt.figure(figsize=(12, 6))\n",
        "plt.subplot(1, 2, 1)\n",
        "plt.plot(epochs, val_loss, label='Validation Loss')\n",
        "plt.plot(epochs, training_loss, label='Training Loss')\n",
        "plt.title('LSTM+GLOVE Loss')\n",
        "plt.xlabel('Epochs')\n",
        "plt.ylabel('Loss')\n",
        "plt.legend()\n",
        "\n",
        "# نمودار Accuracy\n",
        "plt.subplot(1, 2, 2)\n",
        "plt.plot(epochs, validation_acc, label='Validation Accuracy')\n",
        "plt.plot(epochs, training_acc, label='Training Accuracy')\n",
        "plt.title('LSTM+GLOVE Accuracy')\n",
        "plt.xlabel('Epochs')\n",
        "plt.ylabel('Accuracy')\n",
        "plt.legend()\n",
        "\n",
        "# نمودارها را نشان بده\n",
        "plt.tight_layout()\n",
        "plt.show()\n"
      ]
    },
    {
      "cell_type": "code",
      "execution_count": 28,
      "metadata": {
        "id": "svYpraMG9IFg"
      },
      "outputs": [],
      "source": [
        "from sklearn.metrics import precision_score,recall_score,accuracy_score, f1_score\n",
        "def show_confusion(pred_label,label,nm):\n",
        "  class_names=['Hate','Ofensive','Neither']\n",
        "  cm=confusion_matrix(label,pred_label)\n",
        "  disp =ConfusionMatrixDisplay(cm,display_labels=class_names)\n",
        "  disp.plot()\n",
        "  plt.title(f'Confusion Matrix {nm} ')\n",
        "\n",
        "  plt.xlabel('Actual ')\n",
        "  plt.ylabel('Predicted ')\n",
        "  plt.show()\n",
        "\n",
        "def mymetrics(Y,P,alg = None):\n",
        "    recall= recall_score(Y, P, average='macro')\n",
        "    acc2= accuracy_score(Y, P)\n",
        "    precision= precision_score(Y, P, average='macro')\n",
        "    Fmeasure = f1_score(Y, P, average='macro')\n"
      ]
    },
    {
      "cell_type": "code",
      "execution_count": 30,
      "metadata": {
        "id": "DvFianoRy_AV",
        "colab": {
          "base_uri": "https://localhost:8080/"
        },
        "outputId": "89c6673f-93c0-4911-999a-7b7a68f6c8bd"
      },
      "outputs": [
        {
          "output_type": "stream",
          "name": "stdout",
          "text": [
            "\u001b[1m269/269\u001b[0m \u001b[32m━━━━━━━━━━━━━━━━━━━━\u001b[0m\u001b[37m\u001b[0m \u001b[1m20s\u001b[0m 73ms/step\n",
            "\u001b[1m93/93\u001b[0m \u001b[32m━━━━━━━━━━━━━━━━━━━━\u001b[0m\u001b[37m\u001b[0m \u001b[1m5s\u001b[0m 53ms/step\n"
          ]
        }
      ],
      "source": [
        "# پیش‌بینی مدل بر روی داده‌های آموزش و اعتبارسنجی (به‌عنوان تست)\n",
        "ptrLstm = modelLSTMGL.predict(X_train)\n",
        "ptsLstm = modelLSTMGL.predict(X_val)  # از X_val به‌عنوان داده‌های تست استفاده می‌کنیم\n",
        "\n",
        "ptrLstm = (ptrLstm > 0.5)\n",
        "ptsLstm = (ptsLstm > 0.5)\n",
        "\n",
        "# تبدیل به نوع داده float\n",
        "ptrLstm = ptrLstm.astype(float)\n",
        "ptsLstm = ptsLstm.astype(float)\n"
      ]
    },
    {
      "cell_type": "code",
      "execution_count": 31,
      "metadata": {
        "id": "VD1tb20UTfF5"
      },
      "outputs": [],
      "source": [
        "from sklearn.metrics import classification_report"
      ]
    },
    {
      "cell_type": "code",
      "source": [
        "# استخراج برچسب‌ها از y_val برای ارزیابی\n",
        "y_val_labels = y_val.argmax(axis=1)  # تبدیل به برچسب‌های اصلی\n",
        "ptsLstm_labels = ptsLstm.argmax(axis=1)  # پیش‌بینی‌های مدل را به برچسب‌ها تبدیل می‌کنیم\n",
        "\n",
        "# حالا می‌توانید عملکرد مدل را ارزیابی کنید\n",
        "mymetrics(y_val_labels, ptsLstm_labels)  # ارزیابی مدل بر روی داده‌های اعتبارسنجی"
      ],
      "metadata": {
        "id": "b02otVSTHVWz"
      },
      "execution_count": 35,
      "outputs": []
    },
    {
      "cell_type": "code",
      "source": [
        "# اگر از X_val استفاده می‌کنید، باید از y_val_labels استفاده کنید.\n",
        "print(\"===== : Validation Lstm+GLOVE : =====\")\n",
        "mymetrics(y_val_labels, ptsLstm_labels)  # ارزیابی مدل با استفاده از y_val_labels\n",
        "show_confusion(y_val_labels, ptsLstm_labels, 'Validation Lstm+GLOVE')  # نمایش ماتریس اشتباه\n"
      ],
      "metadata": {
        "id": "Kw_UShwYPHm4",
        "colab": {
          "base_uri": "https://localhost:8080/",
          "height": 489
        },
        "outputId": "bfefdbac-5797-46a7-89be-8797691bb535"
      },
      "execution_count": 37,
      "outputs": [
        {
          "output_type": "stream",
          "name": "stdout",
          "text": [
            "===== : Validation Lstm+GLOVE : =====\n"
          ]
        },
        {
          "output_type": "display_data",
          "data": {
            "text/plain": [
              "<Figure size 640x480 with 2 Axes>"
            ],
            "image/png": "[encoded data removed]"
          },
          "metadata": {}
        }
      ]
    },
    {
      "cell_type": "code",
      "source": [
        "from sklearn.metrics import classification_report\n",
        "\n",
        "# اگر از X_val استفاده می‌کنید، باید از y_val_labels به جای y_test_labels استفاده کنید\n",
        "c = classification_report(y_val_labels, ptsLstm_labels, digits=4)\n",
        "\n",
        "print(c)\n"
      ],
      "metadata": {
        "colab": {
          "base_uri": "https://localhost:8080/"
        },
        "id": "0Dxk3p3S3gCQ",
        "outputId": "78789568-1ca9-4c45-e427-d78bff3d4e3d"
      },
      "execution_count": 39,
      "outputs": [
        {
          "output_type": "stream",
          "name": "stdout",
          "text": [
            "              precision    recall  f1-score   support\n",
            "\n",
            "           0     0.3702    0.5449    0.4409       178\n",
            "           1     0.9694    0.8592    0.9110      2287\n",
            "           2     0.7153    0.9627    0.8208       509\n",
            "\n",
            "    accuracy                         0.8581      2974\n",
            "   macro avg     0.6850    0.7889    0.7242      2974\n",
            "weighted avg     0.8901    0.8581    0.8674      2974\n",
            "\n"
          ]
        }
      ]
    },
    {
      "cell_type": "code",
      "execution_count": 40,
      "metadata": {
        "id": "OCTIf1wt8sDT",
        "colab": {
          "base_uri": "https://localhost:8080/",
          "height": 380
        },
        "outputId": "fb214180-3b90-438e-c39a-9e1f3cfd4715"
      },
      "outputs": [
        {
          "output_type": "stream",
          "name": "stdout",
          "text": [
            "There are 4957 rows and 2 columns\n"
          ]
        },
        {
          "output_type": "execute_result",
          "data": {
            "text/plain": [
              "   label                                              tweet\n",
              "0      2  RT @paulabruederle: Some birds aren't meant to...\n",
              "1      1  RT @paullowry42: @gingerash2013 lol and your r...\n",
              "2      1  RT @paymon_d: Legendary year. RT @1stName_Brav...\n",
              "3      1  RT @peaceloveweed_: These hoes want my belvita...\n",
              "4      2  RT @peeabut: Dear god, make me a bird so I can...\n",
              "5      1  RT @peeper1016: If preferring to be barefoot m...\n",
              "6      1  RT @peidroh: when you tell the chick-fil-a cas...\n",
              "7      2  RT @pekholt: Raven Symone's hair be like, \"I'm...\n",
              "8      2  RT @pellucidstyles: they might be called 5 sec...\n",
              "9      1  RT @petertrvjillo: Listen here you beautiful b..."
            ],
            "text/html": [
              "\n",
              "  <div id=\"df-7eeb352f-acd5-4f4d-93d0-04684f9fac09\" class=\"colab-df-container\">\n",
              "    <div>\n",
              "<style scoped>\n",
              "    .dataframe tbody tr th:only-of-type {\n",
              "        vertical-align: middle;\n",
              "    }\n",
              "\n",
              "    .dataframe tbody tr th {\n",
              "        vertical-align: top;\n",
              "    }\n",
              "\n",
              "    .dataframe thead th {\n",
              "        text-align: right;\n",
              "    }\n",
              "</style>\n",
              "<table border=\"1\" class=\"dataframe\">\n",
              "  <thead>\n",
              "    <tr style=\"text-align: right;\">\n",
              "      <th></th>\n",
              "      <th>label</th>\n",
              "      <th>tweet</th>\n",
              "    </tr>\n",
              "  </thead>\n",
              "  <tbody>\n",
              "    <tr>\n",
              "      <th>0</th>\n",
              "      <td>2</td>\n",
              "      <td>RT @paulabruederle: Some birds aren't meant to...</td>\n",
              "    </tr>\n",
              "    <tr>\n",
              "      <th>1</th>\n",
              "      <td>1</td>\n",
              "      <td>RT @paullowry42: @gingerash2013 lol and your r...</td>\n",
              "    </tr>\n",
              "    <tr>\n",
              "      <th>2</th>\n",
              "      <td>1</td>\n",
              "      <td>RT @paymon_d: Legendary year. RT @1stName_Brav...</td>\n",
              "    </tr>\n",
              "    <tr>\n",
              "      <th>3</th>\n",
              "      <td>1</td>\n",
              "      <td>RT @peaceloveweed_: These hoes want my belvita...</td>\n",
              "    </tr>\n",
              "    <tr>\n",
              "      <th>4</th>\n",
              "      <td>2</td>\n",
              "      <td>RT @peeabut: Dear god, make me a bird so I can...</td>\n",
              "    </tr>\n",
              "    <tr>\n",
              "      <th>5</th>\n",
              "      <td>1</td>\n",
              "      <td>RT @peeper1016: If preferring to be barefoot m...</td>\n",
              "    </tr>\n",
              "    <tr>\n",
              "      <th>6</th>\n",
              "      <td>1</td>\n",
              "      <td>RT @peidroh: when you tell the chick-fil-a cas...</td>\n",
              "    </tr>\n",
              "    <tr>\n",
              "      <th>7</th>\n",
              "      <td>2</td>\n",
              "      <td>RT @pekholt: Raven Symone's hair be like, \"I'm...</td>\n",
              "    </tr>\n",
              "    <tr>\n",
              "      <th>8</th>\n",
              "      <td>2</td>\n",
              "      <td>RT @pellucidstyles: they might be called 5 sec...</td>\n",
              "    </tr>\n",
              "    <tr>\n",
              "      <th>9</th>\n",
              "      <td>1</td>\n",
              "      <td>RT @petertrvjillo: Listen here you beautiful b...</td>\n",
              "    </tr>\n",
              "  </tbody>\n",
              "</table>\n",
              "</div>\n",
              "    <div class=\"colab-df-buttons\">\n",
              "\n",
              "  <div class=\"colab-df-container\">\n",
              "    <button class=\"colab-df-convert\" onclick=\"convertToInteractive('df-7eeb352f-acd5-4f4d-93d0-04684f9fac09')\"\n",
              "            title=\"Convert this dataframe to an interactive table.\"\n",
              "            style=\"display:none;\">\n",
              "\n",
              "  <svg xmlns=\"http://www.w3.org/2000/svg\" height=\"24px\" viewBox=\"0 -960 960 960\">\n",
              "    <path d=\"M120-120v-720h720v720H120Zm60-500h600v-160H180v160Zm220 220h160v-160H400v160Zm0 220h160v-160H400v160ZM180-400h160v-160H180v160Zm440 0h160v-160H620v160ZM180-180h160v-160H180v160Zm440 0h160v-160H620v160Z\"/>\n",
              "  </svg>\n",
              "    </button>\n",
              "\n",
              "  <style>\n",
              "    .colab-df-container {\n",
              "      display:flex;\n",
              "      gap: 12px;\n",
              "    }\n",
              "\n",
              "    .colab-df-convert {\n",
              "      background-color: #E8F0FE;\n",
              "      border: none;\n",
              "      border-radius: 50%;\n",
              "      cursor: pointer;\n",
              "      display: none;\n",
              "      fill: #1967D2;\n",
              "      height: 32px;\n",
              "      padding: 0 0 0 0;\n",
              "      width: 32px;\n",
              "    }\n",
              "\n",
              "    .colab-df-convert:hover {\n",
              "      background-color: #E2EBFA;\n",
              "      box-shadow: 0px 1px 2px rgba(60, 64, 67, 0.3), 0px 1px 3px 1px rgba(60, 64, 67, 0.15);\n",
              "      fill: #174EA6;\n",
              "    }\n",
              "\n",
              "    .colab-df-buttons div {\n",
              "      margin-bottom: 4px;\n",
              "    }\n",
              "\n",
              "    [theme=dark] .colab-df-convert {\n",
              "      background-color: #3B4455;\n",
              "      fill: #D2E3FC;\n",
              "    }\n",
              "\n",
              "    [theme=dark] .colab-df-convert:hover {\n",
              "      background-color: #434B5C;\n",
              "      box-shadow: 0px 1px 3px 1px rgba(0, 0, 0, 0.15);\n",
              "      filter: drop-shadow(0px 1px 2px rgba(0, 0, 0, 0.3));\n",
              "      fill: #FFFFFF;\n",
              "    }\n",
              "  </style>\n",
              "\n",
              "    <script>\n",
              "      const buttonEl =\n",
              "        document.querySelector('#df-7eeb352f-acd5-4f4d-93d0-04684f9fac09 button.colab-df-convert');\n",
              "      buttonEl.style.display =\n",
              "        google.colab.kernel.accessAllowed ? 'block' : 'none';\n",
              "\n",
              "      async function convertToInteractive(key) {\n",
              "        const element = document.querySelector('#df-7eeb352f-acd5-4f4d-93d0-04684f9fac09');\n",
              "        const dataTable =\n",
              "          await google.colab.kernel.invokeFunction('convertToInteractive',\n",
              "                                                    [key], {});\n",
              "        if (!dataTable) return;\n",
              "\n",
              "        const docLinkHtml = 'Like what you see? Visit the ' +\n",
              "          '<a target=\"_blank\" href=https://colab.research.google.com/notebooks/data_table.ipynb>data table notebook</a>'\n",
              "          + ' to learn more about interactive tables.';\n",
              "        element.innerHTML = '';\n",
              "        dataTable['output_type'] = 'display_data';\n",
              "        await google.colab.output.renderOutput(dataTable, element);\n",
              "        const docLink = document.createElement('div');\n",
              "        docLink.innerHTML = docLinkHtml;\n",
              "        element.appendChild(docLink);\n",
              "      }\n",
              "    </script>\n",
              "  </div>\n",
              "\n",
              "\n",
              "<div id=\"df-ab2201d4-3e2e-4860-b97f-f91779789949\">\n",
              "  <button class=\"colab-df-quickchart\" onclick=\"quickchart('df-ab2201d4-3e2e-4860-b97f-f91779789949')\"\n",
              "            title=\"Suggest charts\"\n",
              "            style=\"display:none;\">\n",
              "\n",
              "<svg xmlns=\"http://www.w3.org/2000/svg\" height=\"24px\"viewBox=\"0 0 24 24\"\n",
              "     width=\"24px\">\n",
              "    <g>\n",
              "        <path d=\"M19 3H5c-1.1 0-2 .9-2 2v14c0 1.1.9 2 2 2h14c1.1 0 2-.9 2-2V5c0-1.1-.9-2-2-2zM9 17H7v-7h2v7zm4 0h-2V7h2v10zm4 0h-2v-4h2v4z\"/>\n",
              "    </g>\n",
              "</svg>\n",
              "  </button>\n",
              "\n",
              "<style>\n",
              "  .colab-df-quickchart {\n",
              "      --bg-color: #E8F0FE;\n",
              "      --fill-color: #1967D2;\n",
              "      --hover-bg-color: #E2EBFA;\n",
              "      --hover-fill-color: #174EA6;\n",
              "      --disabled-fill-color: #AAA;\n",
              "      --disabled-bg-color: #DDD;\n",
              "  }\n",
              "\n",
              "  [theme=dark] .colab-df-quickchart {\n",
              "      --bg-color: #3B4455;\n",
              "      --fill-color: #D2E3FC;\n",
              "      --hover-bg-color: #434B5C;\n",
              "      --hover-fill-color: #FFFFFF;\n",
              "      --disabled-bg-color: #3B4455;\n",
              "      --disabled-fill-color: #666;\n",
              "  }\n",
              "\n",
              "  .colab-df-quickchart {\n",
              "    background-color: var(--bg-color);\n",
              "    border: none;\n",
              "    border-radius: 50%;\n",
              "    cursor: pointer;\n",
              "    display: none;\n",
              "    fill: var(--fill-color);\n",
              "    height: 32px;\n",
              "    padding: 0;\n",
              "    width: 32px;\n",
              "  }\n",
              "\n",
              "  .colab-df-quickchart:hover {\n",
              "    background-color: var(--hover-bg-color);\n",
              "    box-shadow: 0 1px 2px rgba(60, 64, 67, 0.3), 0 1px 3px 1px rgba(60, 64, 67, 0.15);\n",
              "    fill: var(--button-hover-fill-color);\n",
              "  }\n",
              "\n",
              "  .colab-df-quickchart-complete:disabled,\n",
              "  .colab-df-quickchart-complete:disabled:hover {\n",
              "    background-color: var(--disabled-bg-color);\n",
              "    fill: var(--disabled-fill-color);\n",
              "    box-shadow: none;\n",
              "  }\n",
              "\n",
              "  .colab-df-spinner {\n",
              "    border: 2px solid var(--fill-color);\n",
              "    border-color: transparent;\n",
              "    border-bottom-color: var(--fill-color);\n",
              "    animation:\n",
              "      spin 1s steps(1) infinite;\n",
              "  }\n",
              "\n",
              "  @keyframes spin {\n",
              "    0% {\n",
              "      border-color: transparent;\n",
              "      border-bottom-color: var(--fill-color);\n",
              "      border-left-color: var(--fill-color);\n",
              "    }\n",
              "    20% {\n",
              "      border-color: transparent;\n",
              "      border-left-color: var(--fill-color);\n",
              "      border-top-color: var(--fill-color);\n",
              "    }\n",
              "    30% {\n",
              "      border-color: transparent;\n",
              "      border-left-color: var(--fill-color);\n",
              "      border-top-color: var(--fill-color);\n",
              "      border-right-color: var(--fill-color);\n",
              "    }\n",
              "    40% {\n",
              "      border-color: transparent;\n",
              "      border-right-color: var(--fill-color);\n",
              "      border-top-color: var(--fill-color);\n",
              "    }\n",
              "    60% {\n",
              "      border-color: transparent;\n",
              "      border-right-color: var(--fill-color);\n",
              "    }\n",
              "    80% {\n",
              "      border-color: transparent;\n",
              "      border-right-color: var(--fill-color);\n",
              "      border-bottom-color: var(--fill-color);\n",
              "    }\n",
              "    90% {\n",
              "      border-color: transparent;\n",
              "      border-bottom-color: var(--fill-color);\n",
              "    }\n",
              "  }\n",
              "</style>\n",
              "\n",
              "  <script>\n",
              "    async function quickchart(key) {\n",
              "      const quickchartButtonEl =\n",
              "        document.querySelector('#' + key + ' button');\n",
              "      quickchartButtonEl.disabled = true;  // To prevent multiple clicks.\n",
              "      quickchartButtonEl.classList.add('colab-df-spinner');\n",
              "      try {\n",
              "        const charts = await google.colab.kernel.invokeFunction(\n",
              "            'suggestCharts', [key], {});\n",
              "      } catch (error) {\n",
              "        console.error('Error during call to suggestCharts:', error);\n",
              "      }\n",
              "      quickchartButtonEl.classList.remove('colab-df-spinner');\n",
              "      quickchartButtonEl.classList.add('colab-df-quickchart-complete');\n",
              "    }\n",
              "    (() => {\n",
              "      let quickchartButtonEl =\n",
              "        document.querySelector('#df-ab2201d4-3e2e-4860-b97f-f91779789949 button');\n",
              "      quickchartButtonEl.style.display =\n",
              "        google.colab.kernel.accessAllowed ? 'block' : 'none';\n",
              "    })();\n",
              "  </script>\n",
              "</div>\n",
              "\n",
              "    </div>\n",
              "  </div>\n"
            ],
            "application/vnd.google.colaboratory.intrinsic+json": {
              "type": "dataframe",
              "variable_name": "testing",
              "summary": "{\n  \"name\": \"testing\",\n  \"rows\": 4957,\n  \"fields\": [\n    {\n      \"column\": \"label\",\n      \"properties\": {\n        \"dtype\": \"number\",\n        \"std\": 0,\n        \"min\": 0,\n        \"max\": 2,\n        \"num_unique_values\": 3,\n        \"samples\": [\n          2,\n          1,\n          0\n        ],\n        \"semantic_type\": \"\",\n        \"description\": \"\"\n      }\n    },\n    {\n      \"column\": \"tweet\",\n      \"properties\": {\n        \"dtype\": \"string\",\n        \"num_unique_values\": 4957,\n        \"samples\": [\n          \"Woke up dis morning pockets filled with Xtra pros might slide thru double O tonight n bless the hoes! -- #Peezy\",\n          \"This hoe got 10 seconds to get the hell up outta my face before i set that weave on fire..\",\n          \"don't look at me like I've got a banana in my hand, you fucking monkey.\"\n        ],\n        \"semantic_type\": \"\",\n        \"description\": \"\"\n      }\n    }\n  ]\n}"
            }
          },
          "metadata": {},
          "execution_count": 40
        }
      ],
      "source": [
        "#%%---------Data Read & Transformation---------\n",
        "\n",
        "#Data Reading for Davidson Dataset\n",
        "nRowsRead = None # specify 'None' to read complete file\n",
        "#testing = pd.read_fwf('/content/drive/MyDrive/temp_files/hate and offensive/Test.csv', delimiter=',', nrows = nRowsRead,encoding = \"ISO-8859-1\")\n",
        "testing = pd.read_csv('Test.csv', delimiter=',', nrows = nRowsRead,encoding = \"ISO-8859-1\")\n",
        "nRow, nCol = testing.shape\n",
        "print('There are {} rows and {} columns'.format(nRow, nCol))\n",
        "\n",
        "\n",
        "testing.head(10)\n"
      ]
    },
    {
      "cell_type": "code",
      "execution_count": 41,
      "metadata": {
        "id": "Pcw5fk2UbG20"
      },
      "outputs": [],
      "source": [
        "x_test = testing['tweet']\n"
      ]
    },
    {
      "cell_type": "code",
      "execution_count": 42,
      "metadata": {
        "id": "1SFeF8YhbFuP"
      },
      "outputs": [],
      "source": [
        "x_test = token.texts_to_sequences(x_test)"
      ]
    },
    {
      "cell_type": "code",
      "execution_count": 43,
      "metadata": {
        "id": "xB_YfCbd8vrB"
      },
      "outputs": [],
      "source": [
        "testing_seq = pad_sequences(x_test,maxlen=300)\n"
      ]
    },
    {
      "cell_type": "code",
      "execution_count": 44,
      "metadata": {
        "id": "hrfUtjFW80Ic",
        "colab": {
          "base_uri": "https://localhost:8080/"
        },
        "outputId": "e8e64899-9fac-4224-9238-8bf9bcf6935e"
      },
      "outputs": [
        {
          "output_type": "stream",
          "name": "stdout",
          "text": [
            "\u001b[1m155/155\u001b[0m \u001b[32m━━━━━━━━━━━━━━━━━━━━\u001b[0m\u001b[37m\u001b[0m \u001b[1m15s\u001b[0m 99ms/step\n"
          ]
        }
      ],
      "source": [
        "predic = modelLSTMGL.predict(testing_seq)"
      ]
    },
    {
      "cell_type": "code",
      "execution_count": 45,
      "metadata": {
        "id": "vWxQsF-veU2Z"
      },
      "outputs": [],
      "source": [
        "# preds=[]\n",
        "# for i in predic:\n",
        "#   preds.append(0 if i<0.5 else 1)\n",
        "preds=(predic>0.5)\n",
        "preds=preds.astype(float)"
      ]
    },
    {
      "cell_type": "code",
      "source": [
        "pred_labels = np.argmax(preds, axis=1)"
      ],
      "metadata": {
        "id": "k9iPU_230e-l"
      },
      "execution_count": 46,
      "outputs": []
    },
    {
      "cell_type": "code",
      "execution_count": 47,
      "metadata": {
        "id": "1tZQNb4zbb3j",
        "colab": {
          "base_uri": "https://localhost:8080/",
          "height": 489
        },
        "outputId": "c557243d-b92a-4af7-d1b3-35e53af32135"
      },
      "outputs": [
        {
          "output_type": "stream",
          "name": "stdout",
          "text": [
            "===== : Test Lstm+GLOVE : =====\n"
          ]
        },
        {
          "output_type": "display_data",
          "data": {
            "text/plain": [
              "<Figure size 640x480 with 2 Axes>"
            ],
            "image/png": "[encoded data removed]"
          },
          "metadata": {}
        }
      ],
      "source": [
        "print(\"===== : Test Lstm+GLOVE : =====\")\n",
        "mymetrics(testing['label'],pred_labels)\n",
        "show_confusion(testing['label'] ,pred_labels,'Test Lstm+GLOVE')"
      ]
    },
    {
      "cell_type": "code",
      "source": [
        "report = classification_report(testing['label'], pred_labels, digits=4)\n",
        "print(report)"
      ],
      "metadata": {
        "colab": {
          "base_uri": "https://localhost:8080/"
        },
        "id": "c5OdTmDU3i1_",
        "outputId": "2d962059-62b8-4fb9-d482-beb2424215d6"
      },
      "execution_count": null,
      "outputs": [
        {
          "output_type": "stream",
          "name": "stdout",
          "text": [
            "              precision    recall  f1-score   support\n",
            "\n",
            "           0     0.1892    0.6111    0.2889       234\n",
            "           1     0.9762    0.8363    0.9009      3928\n",
            "           2     0.7895    0.8302    0.8093       795\n",
            "\n",
            "    accuracy                         0.8247      4957\n",
            "   macro avg     0.6516    0.7592    0.6664      4957\n",
            "weighted avg     0.9091    0.8247    0.8573      4957\n",
            "\n"
          ]
        }
      ]
    },
    {
      "cell_type": "code",
      "source": [
        "# اضافه کردن ستون‌های جدید به دیتافریم داده تست\n",
        "testing['predicted_label'] = pred_labels  # لیبل‌های پیش‌بینی شده\n",
        "testing['true_label'] = testing['label']  # لیبل‌های واقعی\n",
        "\n",
        "# انتخاب ستون‌های موردنظر (توییت، لیبل واقعی و لیبل پیش‌بینی شده)\n",
        "output_df = testing[['tweet', 'true_label', 'predicted_label']]\n",
        "\n",
        "# ذخیره به فایل CSV\n",
        "output_df.to_csv('LSTM_predictions.csv', index=False, encoding='utf-8')\n",
        "\n",
        "print(\"فایل LSTM_predictions.csv با موفقیت ذخیره شد.\")\n"
      ],
      "metadata": {
        "colab": {
          "base_uri": "https://localhost:8080/"
        },
        "id": "IFaRslyMeodX",
        "outputId": "2fa7e5b0-ff2a-426d-962e-c91ec4e42ef5"
      },
      "execution_count": 48,
      "outputs": [
        {
          "output_type": "stream",
          "name": "stdout",
          "text": [
            "فایل LSTM_predictions.csv با موفقیت ذخیره شد.\n"
          ]
        }
      ]
    }
  ],
  "metadata": {
    "colab": {
      "provenance": []
    },
    "kernelspec": {
      "display_name": "Python 3",
      "name": "python3"
    },
    "language_info": {
      "name": "python"
    }
  },
  "nbformat": 4,
  "nbformat_minor": 0
}